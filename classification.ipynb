{
 "cells": [
  {
   "cell_type": "code",
   "execution_count": 82,
   "metadata": {
    "collapsed": true
   },
   "outputs": [],
   "source": [
    "import pandas as pd\n",
    "import matplotlib.pyplot as plt\n",
    "%matplotlib inline\n",
    "import numpy as np\n",
    "from datetime import date, timedelta\n",
    "import math\n",
    "from sklearn.model_selection import StratifiedShuffleSplit"
   ]
  },
  {
   "cell_type": "code",
   "execution_count": 36,
   "metadata": {
    "collapsed": true
   },
   "outputs": [],
   "source": [
    "traindata = pd.read_csv('./dataset/processed_tempdata.csv')"
   ]
  },
  {
   "cell_type": "code",
   "execution_count": 37,
   "metadata": {},
   "outputs": [
    {
     "data": {
      "text/plain": [
       "(1671, 12)"
      ]
     },
     "execution_count": 37,
     "metadata": {},
     "output_type": "execute_result"
    }
   ],
   "source": [
    "traindata.shape"
   ]
  },
  {
   "cell_type": "code",
   "execution_count": 38,
   "metadata": {},
   "outputs": [
    {
     "data": {
      "text/html": [
       "<div>\n",
       "<style>\n",
       "    .dataframe thead tr:only-child th {\n",
       "        text-align: right;\n",
       "    }\n",
       "\n",
       "    .dataframe thead th {\n",
       "        text-align: left;\n",
       "    }\n",
       "\n",
       "    .dataframe tbody tr th {\n",
       "        vertical-align: top;\n",
       "    }\n",
       "</style>\n",
       "<table border=\"1\" class=\"dataframe\">\n",
       "  <thead>\n",
       "    <tr style=\"text-align: right;\">\n",
       "      <th></th>\n",
       "      <th>termdays</th>\n",
       "      <th>bank_account_type</th>\n",
       "      <th>bank_name_clients</th>\n",
       "      <th>employment_status_clients</th>\n",
       "      <th>rankloanamt</th>\n",
       "      <th>rankloannum</th>\n",
       "      <th>isreffered</th>\n",
       "      <th>totalduerank</th>\n",
       "      <th>agerank</th>\n",
       "      <th>avgloanamtrank</th>\n",
       "      <th>repaymentrank</th>\n",
       "      <th>good_bad_flag</th>\n",
       "    </tr>\n",
       "  </thead>\n",
       "  <tbody>\n",
       "    <tr>\n",
       "      <th>0</th>\n",
       "      <td>15</td>\n",
       "      <td>Other</td>\n",
       "      <td>EcoBank</td>\n",
       "      <td>Permanent</td>\n",
       "      <td>2</td>\n",
       "      <td>1</td>\n",
       "      <td>0</td>\n",
       "      <td>1</td>\n",
       "      <td>2</td>\n",
       "      <td>2</td>\n",
       "      <td>2</td>\n",
       "      <td>Good</td>\n",
       "    </tr>\n",
       "    <tr>\n",
       "      <th>1</th>\n",
       "      <td>15</td>\n",
       "      <td>Savings</td>\n",
       "      <td>Access Bank</td>\n",
       "      <td>Unemployed</td>\n",
       "      <td>1</td>\n",
       "      <td>1</td>\n",
       "      <td>0</td>\n",
       "      <td>1</td>\n",
       "      <td>2</td>\n",
       "      <td>2</td>\n",
       "      <td>3</td>\n",
       "      <td>Good</td>\n",
       "    </tr>\n",
       "    <tr>\n",
       "      <th>2</th>\n",
       "      <td>30</td>\n",
       "      <td>Other</td>\n",
       "      <td>First Bank</td>\n",
       "      <td>Self-Employed</td>\n",
       "      <td>3</td>\n",
       "      <td>2</td>\n",
       "      <td>0</td>\n",
       "      <td>2</td>\n",
       "      <td>2</td>\n",
       "      <td>3</td>\n",
       "      <td>3</td>\n",
       "      <td>Good</td>\n",
       "    </tr>\n",
       "    <tr>\n",
       "      <th>3</th>\n",
       "      <td>30</td>\n",
       "      <td>Savings</td>\n",
       "      <td>Union Bank</td>\n",
       "      <td>Permanent</td>\n",
       "      <td>2</td>\n",
       "      <td>1</td>\n",
       "      <td>0</td>\n",
       "      <td>1</td>\n",
       "      <td>1</td>\n",
       "      <td>2</td>\n",
       "      <td>3</td>\n",
       "      <td>Good</td>\n",
       "    </tr>\n",
       "    <tr>\n",
       "      <th>4</th>\n",
       "      <td>30</td>\n",
       "      <td>Other</td>\n",
       "      <td>First Bank</td>\n",
       "      <td>Permanent</td>\n",
       "      <td>2</td>\n",
       "      <td>2</td>\n",
       "      <td>0</td>\n",
       "      <td>1</td>\n",
       "      <td>2</td>\n",
       "      <td>2</td>\n",
       "      <td>3</td>\n",
       "      <td>Good</td>\n",
       "    </tr>\n",
       "  </tbody>\n",
       "</table>\n",
       "</div>"
      ],
      "text/plain": [
       "   termdays bank_account_type bank_name_clients employment_status_clients  \\\n",
       "0        15             Other           EcoBank                 Permanent   \n",
       "1        15           Savings       Access Bank                Unemployed   \n",
       "2        30             Other        First Bank             Self-Employed   \n",
       "3        30           Savings        Union Bank                 Permanent   \n",
       "4        30             Other        First Bank                 Permanent   \n",
       "\n",
       "   rankloanamt  rankloannum  isreffered  totalduerank  agerank  \\\n",
       "0            2            1           0             1        2   \n",
       "1            1            1           0             1        2   \n",
       "2            3            2           0             2        2   \n",
       "3            2            1           0             1        1   \n",
       "4            2            2           0             1        2   \n",
       "\n",
       "   avgloanamtrank  repaymentrank good_bad_flag  \n",
       "0               2              2          Good  \n",
       "1               2              3          Good  \n",
       "2               3              3          Good  \n",
       "3               2              3          Good  \n",
       "4               2              3          Good  "
      ]
     },
     "execution_count": 38,
     "metadata": {},
     "output_type": "execute_result"
    }
   ],
   "source": [
    "traindata.head()"
   ]
  },
  {
   "cell_type": "markdown",
   "metadata": {},
   "source": [
    "#### One hot encoding for nominal categorical value"
   ]
  },
  {
   "cell_type": "code",
   "execution_count": 40,
   "metadata": {
    "collapsed": true
   },
   "outputs": [],
   "source": [
    "one_hot_bankAccType = pd.get_dummies(traindata['bank_account_type'])"
   ]
  },
  {
   "cell_type": "code",
   "execution_count": 41,
   "metadata": {
    "scrolled": true
   },
   "outputs": [],
   "source": [
    "traindata = traindata.drop('bank_account_type', axis=1)"
   ]
  },
  {
   "cell_type": "code",
   "execution_count": 42,
   "metadata": {},
   "outputs": [],
   "source": [
    "traindata = traindata.join(one_hot_bankAccType)"
   ]
  },
  {
   "cell_type": "code",
   "execution_count": 43,
   "metadata": {},
   "outputs": [
    {
     "data": {
      "text/html": [
       "<div>\n",
       "<style>\n",
       "    .dataframe thead tr:only-child th {\n",
       "        text-align: right;\n",
       "    }\n",
       "\n",
       "    .dataframe thead th {\n",
       "        text-align: left;\n",
       "    }\n",
       "\n",
       "    .dataframe tbody tr th {\n",
       "        vertical-align: top;\n",
       "    }\n",
       "</style>\n",
       "<table border=\"1\" class=\"dataframe\">\n",
       "  <thead>\n",
       "    <tr style=\"text-align: right;\">\n",
       "      <th></th>\n",
       "      <th>termdays</th>\n",
       "      <th>bank_name_clients</th>\n",
       "      <th>employment_status_clients</th>\n",
       "      <th>rankloanamt</th>\n",
       "      <th>rankloannum</th>\n",
       "      <th>isreffered</th>\n",
       "      <th>totalduerank</th>\n",
       "      <th>agerank</th>\n",
       "      <th>avgloanamtrank</th>\n",
       "      <th>repaymentrank</th>\n",
       "      <th>good_bad_flag</th>\n",
       "      <th>Current</th>\n",
       "      <th>Other</th>\n",
       "      <th>Savings</th>\n",
       "    </tr>\n",
       "  </thead>\n",
       "  <tbody>\n",
       "    <tr>\n",
       "      <th>0</th>\n",
       "      <td>15</td>\n",
       "      <td>EcoBank</td>\n",
       "      <td>Permanent</td>\n",
       "      <td>2</td>\n",
       "      <td>1</td>\n",
       "      <td>0</td>\n",
       "      <td>1</td>\n",
       "      <td>2</td>\n",
       "      <td>2</td>\n",
       "      <td>2</td>\n",
       "      <td>Good</td>\n",
       "      <td>0</td>\n",
       "      <td>1</td>\n",
       "      <td>0</td>\n",
       "    </tr>\n",
       "    <tr>\n",
       "      <th>1</th>\n",
       "      <td>15</td>\n",
       "      <td>Access Bank</td>\n",
       "      <td>Unemployed</td>\n",
       "      <td>1</td>\n",
       "      <td>1</td>\n",
       "      <td>0</td>\n",
       "      <td>1</td>\n",
       "      <td>2</td>\n",
       "      <td>2</td>\n",
       "      <td>3</td>\n",
       "      <td>Good</td>\n",
       "      <td>0</td>\n",
       "      <td>0</td>\n",
       "      <td>1</td>\n",
       "    </tr>\n",
       "    <tr>\n",
       "      <th>2</th>\n",
       "      <td>30</td>\n",
       "      <td>First Bank</td>\n",
       "      <td>Self-Employed</td>\n",
       "      <td>3</td>\n",
       "      <td>2</td>\n",
       "      <td>0</td>\n",
       "      <td>2</td>\n",
       "      <td>2</td>\n",
       "      <td>3</td>\n",
       "      <td>3</td>\n",
       "      <td>Good</td>\n",
       "      <td>0</td>\n",
       "      <td>1</td>\n",
       "      <td>0</td>\n",
       "    </tr>\n",
       "    <tr>\n",
       "      <th>3</th>\n",
       "      <td>30</td>\n",
       "      <td>Union Bank</td>\n",
       "      <td>Permanent</td>\n",
       "      <td>2</td>\n",
       "      <td>1</td>\n",
       "      <td>0</td>\n",
       "      <td>1</td>\n",
       "      <td>1</td>\n",
       "      <td>2</td>\n",
       "      <td>3</td>\n",
       "      <td>Good</td>\n",
       "      <td>0</td>\n",
       "      <td>0</td>\n",
       "      <td>1</td>\n",
       "    </tr>\n",
       "    <tr>\n",
       "      <th>4</th>\n",
       "      <td>30</td>\n",
       "      <td>First Bank</td>\n",
       "      <td>Permanent</td>\n",
       "      <td>2</td>\n",
       "      <td>2</td>\n",
       "      <td>0</td>\n",
       "      <td>1</td>\n",
       "      <td>2</td>\n",
       "      <td>2</td>\n",
       "      <td>3</td>\n",
       "      <td>Good</td>\n",
       "      <td>0</td>\n",
       "      <td>1</td>\n",
       "      <td>0</td>\n",
       "    </tr>\n",
       "  </tbody>\n",
       "</table>\n",
       "</div>"
      ],
      "text/plain": [
       "   termdays bank_name_clients employment_status_clients  rankloanamt  \\\n",
       "0        15           EcoBank                 Permanent            2   \n",
       "1        15       Access Bank                Unemployed            1   \n",
       "2        30        First Bank             Self-Employed            3   \n",
       "3        30        Union Bank                 Permanent            2   \n",
       "4        30        First Bank                 Permanent            2   \n",
       "\n",
       "   rankloannum  isreffered  totalduerank  agerank  avgloanamtrank  \\\n",
       "0            1           0             1        2               2   \n",
       "1            1           0             1        2               2   \n",
       "2            2           0             2        2               3   \n",
       "3            1           0             1        1               2   \n",
       "4            2           0             1        2               2   \n",
       "\n",
       "   repaymentrank good_bad_flag  Current  Other  Savings  \n",
       "0              2          Good        0      1        0  \n",
       "1              3          Good        0      0        1  \n",
       "2              3          Good        0      1        0  \n",
       "3              3          Good        0      0        1  \n",
       "4              3          Good        0      1        0  "
      ]
     },
     "execution_count": 43,
     "metadata": {},
     "output_type": "execute_result"
    }
   ],
   "source": [
    "traindata.head()"
   ]
  },
  {
   "cell_type": "code",
   "execution_count": 44,
   "metadata": {
    "collapsed": true
   },
   "outputs": [],
   "source": [
    "one_hot_bnc = pd.get_dummies(traindata['bank_name_clients'])\n",
    "traindata = traindata.drop('bank_name_clients', axis=1)\n",
    "traindata = traindata.join(one_hot_bnc)"
   ]
  },
  {
   "cell_type": "code",
   "execution_count": 54,
   "metadata": {},
   "outputs": [],
   "source": [
    "traindata = traindata.drop('good_bad_flag', axis=1)"
   ]
  },
  {
   "cell_type": "code",
   "execution_count": 46,
   "metadata": {
    "collapsed": true
   },
   "outputs": [],
   "source": [
    "one_hot_esc = pd.get_dummies(traindata['employment_status_clients'])\n",
    "traindata = traindata.drop('employment_status_clients', axis=1)\n",
    "traindata = traindata.join(one_hot_esc)"
   ]
  },
  {
   "cell_type": "code",
   "execution_count": 47,
   "metadata": {},
   "outputs": [
    {
     "data": {
      "text/html": [
       "<div>\n",
       "<style>\n",
       "    .dataframe thead tr:only-child th {\n",
       "        text-align: right;\n",
       "    }\n",
       "\n",
       "    .dataframe thead th {\n",
       "        text-align: left;\n",
       "    }\n",
       "\n",
       "    .dataframe tbody tr th {\n",
       "        vertical-align: top;\n",
       "    }\n",
       "</style>\n",
       "<table border=\"1\" class=\"dataframe\">\n",
       "  <thead>\n",
       "    <tr style=\"text-align: right;\">\n",
       "      <th></th>\n",
       "      <th>termdays</th>\n",
       "      <th>rankloanamt</th>\n",
       "      <th>rankloannum</th>\n",
       "      <th>isreffered</th>\n",
       "      <th>totalduerank</th>\n",
       "      <th>agerank</th>\n",
       "      <th>avgloanamtrank</th>\n",
       "      <th>repaymentrank</th>\n",
       "      <th>good_bad_flag</th>\n",
       "      <th>Current</th>\n",
       "      <th>...</th>\n",
       "      <th>Union Bank</th>\n",
       "      <th>Unity Bank</th>\n",
       "      <th>Wema Bank</th>\n",
       "      <th>Zenith Bank</th>\n",
       "      <th>Contract</th>\n",
       "      <th>Permanent</th>\n",
       "      <th>Retired</th>\n",
       "      <th>Self-Employed</th>\n",
       "      <th>Student</th>\n",
       "      <th>Unemployed</th>\n",
       "    </tr>\n",
       "  </thead>\n",
       "  <tbody>\n",
       "    <tr>\n",
       "      <th>0</th>\n",
       "      <td>15</td>\n",
       "      <td>2</td>\n",
       "      <td>1</td>\n",
       "      <td>0</td>\n",
       "      <td>1</td>\n",
       "      <td>2</td>\n",
       "      <td>2</td>\n",
       "      <td>2</td>\n",
       "      <td>Good</td>\n",
       "      <td>0</td>\n",
       "      <td>...</td>\n",
       "      <td>0</td>\n",
       "      <td>0</td>\n",
       "      <td>0</td>\n",
       "      <td>0</td>\n",
       "      <td>0</td>\n",
       "      <td>1</td>\n",
       "      <td>0</td>\n",
       "      <td>0</td>\n",
       "      <td>0</td>\n",
       "      <td>0</td>\n",
       "    </tr>\n",
       "    <tr>\n",
       "      <th>1</th>\n",
       "      <td>15</td>\n",
       "      <td>1</td>\n",
       "      <td>1</td>\n",
       "      <td>0</td>\n",
       "      <td>1</td>\n",
       "      <td>2</td>\n",
       "      <td>2</td>\n",
       "      <td>3</td>\n",
       "      <td>Good</td>\n",
       "      <td>0</td>\n",
       "      <td>...</td>\n",
       "      <td>0</td>\n",
       "      <td>0</td>\n",
       "      <td>0</td>\n",
       "      <td>0</td>\n",
       "      <td>0</td>\n",
       "      <td>0</td>\n",
       "      <td>0</td>\n",
       "      <td>0</td>\n",
       "      <td>0</td>\n",
       "      <td>1</td>\n",
       "    </tr>\n",
       "    <tr>\n",
       "      <th>2</th>\n",
       "      <td>30</td>\n",
       "      <td>3</td>\n",
       "      <td>2</td>\n",
       "      <td>0</td>\n",
       "      <td>2</td>\n",
       "      <td>2</td>\n",
       "      <td>3</td>\n",
       "      <td>3</td>\n",
       "      <td>Good</td>\n",
       "      <td>0</td>\n",
       "      <td>...</td>\n",
       "      <td>0</td>\n",
       "      <td>0</td>\n",
       "      <td>0</td>\n",
       "      <td>0</td>\n",
       "      <td>0</td>\n",
       "      <td>0</td>\n",
       "      <td>0</td>\n",
       "      <td>1</td>\n",
       "      <td>0</td>\n",
       "      <td>0</td>\n",
       "    </tr>\n",
       "    <tr>\n",
       "      <th>3</th>\n",
       "      <td>30</td>\n",
       "      <td>2</td>\n",
       "      <td>1</td>\n",
       "      <td>0</td>\n",
       "      <td>1</td>\n",
       "      <td>1</td>\n",
       "      <td>2</td>\n",
       "      <td>3</td>\n",
       "      <td>Good</td>\n",
       "      <td>0</td>\n",
       "      <td>...</td>\n",
       "      <td>1</td>\n",
       "      <td>0</td>\n",
       "      <td>0</td>\n",
       "      <td>0</td>\n",
       "      <td>0</td>\n",
       "      <td>1</td>\n",
       "      <td>0</td>\n",
       "      <td>0</td>\n",
       "      <td>0</td>\n",
       "      <td>0</td>\n",
       "    </tr>\n",
       "    <tr>\n",
       "      <th>4</th>\n",
       "      <td>30</td>\n",
       "      <td>2</td>\n",
       "      <td>2</td>\n",
       "      <td>0</td>\n",
       "      <td>1</td>\n",
       "      <td>2</td>\n",
       "      <td>2</td>\n",
       "      <td>3</td>\n",
       "      <td>Good</td>\n",
       "      <td>0</td>\n",
       "      <td>...</td>\n",
       "      <td>0</td>\n",
       "      <td>0</td>\n",
       "      <td>0</td>\n",
       "      <td>0</td>\n",
       "      <td>0</td>\n",
       "      <td>1</td>\n",
       "      <td>0</td>\n",
       "      <td>0</td>\n",
       "      <td>0</td>\n",
       "      <td>0</td>\n",
       "    </tr>\n",
       "  </tbody>\n",
       "</table>\n",
       "<p>5 rows × 36 columns</p>\n",
       "</div>"
      ],
      "text/plain": [
       "   termdays  rankloanamt  rankloannum  isreffered  totalduerank  agerank  \\\n",
       "0        15            2            1           0             1        2   \n",
       "1        15            1            1           0             1        2   \n",
       "2        30            3            2           0             2        2   \n",
       "3        30            2            1           0             1        1   \n",
       "4        30            2            2           0             1        2   \n",
       "\n",
       "   avgloanamtrank  repaymentrank good_bad_flag  Current     ...      \\\n",
       "0               2              2          Good        0     ...       \n",
       "1               2              3          Good        0     ...       \n",
       "2               3              3          Good        0     ...       \n",
       "3               2              3          Good        0     ...       \n",
       "4               2              3          Good        0     ...       \n",
       "\n",
       "   Union Bank  Unity Bank  Wema Bank  Zenith Bank  Contract  Permanent  \\\n",
       "0           0           0          0            0         0          1   \n",
       "1           0           0          0            0         0          0   \n",
       "2           0           0          0            0         0          0   \n",
       "3           1           0          0            0         0          1   \n",
       "4           0           0          0            0         0          1   \n",
       "\n",
       "   Retired  Self-Employed  Student  Unemployed  \n",
       "0        0              0        0           0  \n",
       "1        0              0        0           1  \n",
       "2        0              1        0           0  \n",
       "3        0              0        0           0  \n",
       "4        0              0        0           0  \n",
       "\n",
       "[5 rows x 36 columns]"
      ]
     },
     "execution_count": 47,
     "metadata": {},
     "output_type": "execute_result"
    }
   ],
   "source": [
    "traindata.head()"
   ]
  },
  {
   "cell_type": "code",
   "execution_count": 48,
   "metadata": {
    "collapsed": true
   },
   "outputs": [],
   "source": [
    "def numericClass(gbf):\n",
    "    if( gbf == 'Good' ):\n",
    "        return 1\n",
    "    else:\n",
    "        return 0"
   ]
  },
  {
   "cell_type": "code",
   "execution_count": 49,
   "metadata": {
    "collapsed": true
   },
   "outputs": [],
   "source": [
    "traindata['class'] = traindata['good_bad_flag'].apply(numericClass)"
   ]
  },
  {
   "cell_type": "code",
   "execution_count": null,
   "metadata": {
    "collapsed": true
   },
   "outputs": [],
   "source": [
    "traindata = traindata.drop('good_bad_flag', axis=1)"
   ]
  },
  {
   "cell_type": "code",
   "execution_count": 62,
   "metadata": {},
   "outputs": [
    {
     "data": {
      "text/html": [
       "<div>\n",
       "<style>\n",
       "    .dataframe thead tr:only-child th {\n",
       "        text-align: right;\n",
       "    }\n",
       "\n",
       "    .dataframe thead th {\n",
       "        text-align: left;\n",
       "    }\n",
       "\n",
       "    .dataframe tbody tr th {\n",
       "        vertical-align: top;\n",
       "    }\n",
       "</style>\n",
       "<table border=\"1\" class=\"dataframe\">\n",
       "  <thead>\n",
       "    <tr style=\"text-align: right;\">\n",
       "      <th></th>\n",
       "      <th>termdays</th>\n",
       "      <th>rankloanamt</th>\n",
       "      <th>rankloannum</th>\n",
       "      <th>isreffered</th>\n",
       "      <th>totalduerank</th>\n",
       "      <th>agerank</th>\n",
       "      <th>avgloanamtrank</th>\n",
       "      <th>repaymentrank</th>\n",
       "      <th>Current</th>\n",
       "      <th>Other</th>\n",
       "      <th>...</th>\n",
       "      <th>Unity Bank</th>\n",
       "      <th>Wema Bank</th>\n",
       "      <th>Zenith Bank</th>\n",
       "      <th>Contract</th>\n",
       "      <th>Permanent</th>\n",
       "      <th>Retired</th>\n",
       "      <th>Self-Employed</th>\n",
       "      <th>Student</th>\n",
       "      <th>Unemployed</th>\n",
       "      <th>class</th>\n",
       "    </tr>\n",
       "  </thead>\n",
       "  <tbody>\n",
       "    <tr>\n",
       "      <th>0</th>\n",
       "      <td>15</td>\n",
       "      <td>2</td>\n",
       "      <td>1</td>\n",
       "      <td>0</td>\n",
       "      <td>1</td>\n",
       "      <td>2</td>\n",
       "      <td>2</td>\n",
       "      <td>2</td>\n",
       "      <td>0</td>\n",
       "      <td>1</td>\n",
       "      <td>...</td>\n",
       "      <td>0</td>\n",
       "      <td>0</td>\n",
       "      <td>0</td>\n",
       "      <td>0</td>\n",
       "      <td>1</td>\n",
       "      <td>0</td>\n",
       "      <td>0</td>\n",
       "      <td>0</td>\n",
       "      <td>0</td>\n",
       "      <td>1</td>\n",
       "    </tr>\n",
       "    <tr>\n",
       "      <th>1</th>\n",
       "      <td>15</td>\n",
       "      <td>1</td>\n",
       "      <td>1</td>\n",
       "      <td>0</td>\n",
       "      <td>1</td>\n",
       "      <td>2</td>\n",
       "      <td>2</td>\n",
       "      <td>3</td>\n",
       "      <td>0</td>\n",
       "      <td>0</td>\n",
       "      <td>...</td>\n",
       "      <td>0</td>\n",
       "      <td>0</td>\n",
       "      <td>0</td>\n",
       "      <td>0</td>\n",
       "      <td>0</td>\n",
       "      <td>0</td>\n",
       "      <td>0</td>\n",
       "      <td>0</td>\n",
       "      <td>1</td>\n",
       "      <td>1</td>\n",
       "    </tr>\n",
       "    <tr>\n",
       "      <th>2</th>\n",
       "      <td>30</td>\n",
       "      <td>3</td>\n",
       "      <td>2</td>\n",
       "      <td>0</td>\n",
       "      <td>2</td>\n",
       "      <td>2</td>\n",
       "      <td>3</td>\n",
       "      <td>3</td>\n",
       "      <td>0</td>\n",
       "      <td>1</td>\n",
       "      <td>...</td>\n",
       "      <td>0</td>\n",
       "      <td>0</td>\n",
       "      <td>0</td>\n",
       "      <td>0</td>\n",
       "      <td>0</td>\n",
       "      <td>0</td>\n",
       "      <td>1</td>\n",
       "      <td>0</td>\n",
       "      <td>0</td>\n",
       "      <td>1</td>\n",
       "    </tr>\n",
       "    <tr>\n",
       "      <th>3</th>\n",
       "      <td>30</td>\n",
       "      <td>2</td>\n",
       "      <td>1</td>\n",
       "      <td>0</td>\n",
       "      <td>1</td>\n",
       "      <td>1</td>\n",
       "      <td>2</td>\n",
       "      <td>3</td>\n",
       "      <td>0</td>\n",
       "      <td>0</td>\n",
       "      <td>...</td>\n",
       "      <td>0</td>\n",
       "      <td>0</td>\n",
       "      <td>0</td>\n",
       "      <td>0</td>\n",
       "      <td>1</td>\n",
       "      <td>0</td>\n",
       "      <td>0</td>\n",
       "      <td>0</td>\n",
       "      <td>0</td>\n",
       "      <td>1</td>\n",
       "    </tr>\n",
       "    <tr>\n",
       "      <th>4</th>\n",
       "      <td>30</td>\n",
       "      <td>2</td>\n",
       "      <td>2</td>\n",
       "      <td>0</td>\n",
       "      <td>1</td>\n",
       "      <td>2</td>\n",
       "      <td>2</td>\n",
       "      <td>3</td>\n",
       "      <td>0</td>\n",
       "      <td>1</td>\n",
       "      <td>...</td>\n",
       "      <td>0</td>\n",
       "      <td>0</td>\n",
       "      <td>0</td>\n",
       "      <td>0</td>\n",
       "      <td>1</td>\n",
       "      <td>0</td>\n",
       "      <td>0</td>\n",
       "      <td>0</td>\n",
       "      <td>0</td>\n",
       "      <td>1</td>\n",
       "    </tr>\n",
       "  </tbody>\n",
       "</table>\n",
       "<p>5 rows × 36 columns</p>\n",
       "</div>"
      ],
      "text/plain": [
       "   termdays  rankloanamt  rankloannum  isreffered  totalduerank  agerank  \\\n",
       "0        15            2            1           0             1        2   \n",
       "1        15            1            1           0             1        2   \n",
       "2        30            3            2           0             2        2   \n",
       "3        30            2            1           0             1        1   \n",
       "4        30            2            2           0             1        2   \n",
       "\n",
       "   avgloanamtrank  repaymentrank  Current  Other  ...    Unity Bank  \\\n",
       "0               2              2        0      1  ...             0   \n",
       "1               2              3        0      0  ...             0   \n",
       "2               3              3        0      1  ...             0   \n",
       "3               2              3        0      0  ...             0   \n",
       "4               2              3        0      1  ...             0   \n",
       "\n",
       "   Wema Bank  Zenith Bank  Contract  Permanent  Retired  Self-Employed  \\\n",
       "0          0            0         0          1        0              0   \n",
       "1          0            0         0          0        0              0   \n",
       "2          0            0         0          0        0              1   \n",
       "3          0            0         0          1        0              0   \n",
       "4          0            0         0          1        0              0   \n",
       "\n",
       "   Student  Unemployed  class  \n",
       "0        0           0      1  \n",
       "1        0           1      1  \n",
       "2        0           0      1  \n",
       "3        0           0      1  \n",
       "4        0           0      1  \n",
       "\n",
       "[5 rows x 36 columns]"
      ]
     },
     "execution_count": 62,
     "metadata": {},
     "output_type": "execute_result"
    }
   ],
   "source": [
    "traindata.head()"
   ]
  },
  {
   "cell_type": "code",
   "execution_count": 61,
   "metadata": {},
   "outputs": [
    {
     "data": {
      "text/plain": [
       "(1671, 36)"
      ]
     },
     "execution_count": 61,
     "metadata": {},
     "output_type": "execute_result"
    }
   ],
   "source": [
    "traindata.shape"
   ]
  },
  {
   "cell_type": "code",
   "execution_count": 60,
   "metadata": {
    "collapsed": true
   },
   "outputs": [],
   "source": [
    "traindata.to_csv('./dataset/numeric_traindata.csv', index=False)"
   ]
  },
  {
   "cell_type": "code",
   "execution_count": 65,
   "metadata": {
    "collapsed": true
   },
   "outputs": [],
   "source": [
    "def getSample(size, df):\n",
    "    size1 = int(round(size * 0.50))\n",
    "    size2 = size - size1\n",
    "    data_good = df[(df['class'] == 1)]\n",
    "    data_bad = df[(df['class'] == 0)]\n",
    "    data_sample_good = data_good.sample(n=size1)\n",
    "    data_sample_bad = data_bad.sample(n=size2)\n",
    "    return pd.concat((data_sample_good, data_sample_bad))"
   ]
  },
  {
   "cell_type": "code",
   "execution_count": 66,
   "metadata": {},
   "outputs": [],
   "source": [
    "train_600 = getSample(600, traindata)"
   ]
  },
  {
   "cell_type": "code",
   "execution_count": 67,
   "metadata": {
    "collapsed": true
   },
   "outputs": [],
   "source": [
    "train_600.to_csv('./dataset/python/train_600.csv')"
   ]
  },
  {
   "cell_type": "code",
   "execution_count": 70,
   "metadata": {},
   "outputs": [
    {
     "data": {
      "text/plain": [
       "Index(['termdays', 'rankloanamt', 'rankloannum', 'isreffered', 'totalduerank',\n",
       "       'agerank', 'avgloanamtrank', 'repaymentrank', 'Current', 'Other',\n",
       "       'Savings', 'Access Bank', 'Diamond Bank', 'EcoBank', 'FCMB',\n",
       "       'Fidelity Bank', 'First Bank', 'GT Bank', 'Heritage Bank',\n",
       "       'Keystone Bank', 'Skye Bank', 'Stanbic IBTC', 'Standard Chartered',\n",
       "       'Sterling Bank', 'UBA', 'Union Bank', 'Unity Bank', 'Wema Bank',\n",
       "       'Zenith Bank', 'Contract', 'Permanent', 'Retired', 'Self-Employed',\n",
       "       'Student', 'Unemployed', 'class'],\n",
       "      dtype='object')"
      ]
     },
     "execution_count": 70,
     "metadata": {},
     "output_type": "execute_result"
    }
   ],
   "source": [
    "train_600.columns"
   ]
  },
  {
   "cell_type": "code",
   "execution_count": 75,
   "metadata": {
    "collapsed": true
   },
   "outputs": [],
   "source": [
    "X = train_600[train_600.columns[0:35]]"
   ]
  },
  {
   "cell_type": "code",
   "execution_count": 77,
   "metadata": {},
   "outputs": [],
   "source": [
    "Y = train_600['class']"
   ]
  },
  {
   "cell_type": "code",
   "execution_count": 83,
   "metadata": {},
   "outputs": [],
   "source": [
    "sss = StratifiedShuffleSplit(n_splits=3, test_size=200, random_state=0)"
   ]
  },
  {
   "cell_type": "code",
   "execution_count": 84,
   "metadata": {},
   "outputs": [
    {
     "name": "stdout",
     "output_type": "stream",
     "text": [
      "1 TRAIN: [294 355 366 129 168 380 261 123 564 247 552 283 588 316 187 100 412 189\n",
      "  98 322 143 586 118 439 471 459 456  54 271  73 416 350 553 268 562 236\n",
      " 518 232  45  76   0  25 250 102 397 579 286 568 592 499  50 374 152 522\n",
      "  20 224 326  77 249 406   3 393 101  47 304 132 526 145  29 520 276 126\n",
      " 115 279 204 112 151 169 346  82 297 479  62 175 494 593 396 215 234 217\n",
      " 214 524 134 155 570 555 257  33 354 103 452  86 377 125 407 449 446 389\n",
      " 394 437 434 512 362 430 545  75 539 516 119 281 226 110 202 336 114 595\n",
      "  11  40 159 292  96 352 505 464 550 225 205  99  23  67 231 153 359 519\n",
      " 161 392 137 315  36 200  85 481 424 506 109 344 429  89 188  35 361   7\n",
      "  88 221 580 425 211 270 468 182  71 333 457 411 445 176 178 222  12 418\n",
      " 299 140 289 517 142  69 436 275 514 476  95 330 510 254   2 240 489 107\n",
      " 206  37 308 401 458 383 453 482 462 303  31 535 566 523 122  21 210 184\n",
      " 258 572 548 537 529 329 591 291 242  97 363 435 334 478 438 128 197 149\n",
      "  30 408  39 298 312 513 560 170 475 376 549 559 314 282 185  68 530  46\n",
      " 488 599 148 241 319 422 239 313 213 413 156 461 233 423 150  65 373 310\n",
      "  19  78  42 508 133 500 300 111 113 356  14 305  66 265 351 183  17 180\n",
      " 223 318 192 455 263 371 138 590 527 320 582  49  27  64 235  56 414 534\n",
      " 381 228 490 538 244 521  32 528 345 343 260 245 467 127 337 307 157 190\n",
      "  15 324 327 585 454 473 487 375 525 360 146 186 166 410 484 302 162 501\n",
      " 536 165 498 269 386   9 509 584 358 179 466 554 172 104 390 547 284 196\n",
      " 130 409 131 108  41 340 533 398 364 367 262 596 573  84 491 444 251 395\n",
      " 341 321 541  90 403  57 288  10 218   1 450 460 404 212 594 581 252 515\n",
      " 575 229  91 426] TEST: [167 216 480 301 421 385 248 384 208 117 511 577 493 486 419  59 405 181\n",
      " 243 353 563 255 230 191 399 544 164 598 507 287   4 561 267 323 105 135\n",
      " 198 246 207 328  80 503 442 402  13 578 160 451 417 357 273 311 154 365\n",
      " 391 532 463  24 338 256 274 583 209   6 147 597 264 335 388 431 342 332\n",
      " 531 551 173 432 266 472 348 203 415 497 144 589 420 195 347 496 387 219\n",
      " 567 378 290  74 177  34 201 440 447 278 285 174 368 558  92 277 492 379\n",
      "  58  48  87 427 495 306 571 325   8 272 546 569 443  43 317  26  70 372\n",
      " 557  60 502 106 474  52 576 469 120 382  81 540   5 542  18 141 470 227\n",
      " 543 331 259 220 428 280  79 193  83 465 238  72 171 477 339 556  51  53\n",
      "  28 124 483 504  22 448  93 574  55 296 349 587  94  16 309 121  44 485\n",
      " 370 433 163 158  38 116 139  63 194 295 441 293 199 136  61 565 400 237\n",
      " 253 369]\n",
      "2 TRAIN: [509 388 569 245 543  67 357  56  92 254  84 262 226 396 209 201 561 318\n",
      "   3 564 580 319 344  33 280 450 552 181 595 106 211 539 185   5 364 238\n",
      " 487 258 590 187  50 589 216 566 175 167  74 334  18 241 118  24  63 529\n",
      "  55 448  36 568 236 597 463 186 378 197  54 384 191 156 591 426 506 532\n",
      "  53 365 228 599 598 162 189 434 398 518 257 412 425 200 500  32 482 404\n",
      " 362 524 559 508 417 251 320 437 112 343 215 315 372   9 499  80 129 575\n",
      " 317  77  47  71 592 420 199 517 305 433 510 401 322 196  66 221 266 352\n",
      "  44 416 139 503  79 371  81 113 134 516 193 435  72 468  87  28 289 345\n",
      " 560  38 304 578  42 331 194 225 483  21 413 557 554 530 519 353 475 438\n",
      " 323 202 369 213 370 442 502 249 290 379 261 531 278 558 473 501 574 497\n",
      " 373  69 230  60 217   1 154  34 309  64 233 246 410 180  13 283  73 515\n",
      " 158 297  11 148 161 147  85 470 267 453   8 393 449 296  82   6 390 402\n",
      " 461 286 237 100 380 567 122  58 436  52 325 488 330 354 292 101 389 441\n",
      " 115 496 460 168 126 471 124 446  35  20 288  39 429 462 443 541 459 114\n",
      " 511 166 164 562  91 355 454 533   0 514 523 117 536 581 582 272  98 287\n",
      " 382 363 116 491 157 232 391 526  76 478 527  70 173 281 538 295 337  17\n",
      " 469  41 452 593 182 239 419 133 576 151  19 480 277 172 192 306 135 234\n",
      " 294 137 235  48 507 571  57 520 439 103 394 351  23 572 484 376 276 445\n",
      " 387 397  25 383  30 263 553  10 256 144 255 586 123  90  99 229 341 430\n",
      " 551 247 490 495 583 596 220 282 311 338 348 303 481 546  59 346 285 542\n",
      " 493 540 537 169 451 160 131 347 218  75 422 105 407 163 259 253 342 274\n",
      " 385 104 145 327 149  68 579 260 136  27 474 207 224 565 421 107 427 408\n",
      "  14 548  12 252] TEST: [ 65 485  49 349 195 219 111 400 299 467 456 440 339 240 525 535 140 165\n",
      "  15 121 270 505 573 594 227 545 210 465 110 588 577 399 177 335 312 350\n",
      " 198 208 328 512 550 130 374 301 128 268 414 489  96 273 284  40 176 291\n",
      " 109 392 570 275 367 150 386 293 326 476 405 479 340 381 587 171 513  51\n",
      " 119 314  45  46 366 190 585  83 498 406 265 248 243 360 504 361 264 336\n",
      " 534  29 184 423 313 472 358 447 418 310 214 332 395 269 179   2 298 549\n",
      "  86  88 359 188  43 308 333 205 222  97  95 375 455 321 125 212 138 428\n",
      " 492 584 494 120 250 141 458 415 108 206 477 555  78 174   4  16 486 563\n",
      " 159  26 324 409 300 466 403  62 142  94 377 153  31 178 522 279 368 544\n",
      " 547 521 271 146 204 307 457 424 244 203  93 231 528 329 152  37 170 155\n",
      " 127 143 302 132 411 356  22 316 183   7 102 464 556 242 432 444 223  89\n",
      " 431  61]\n",
      "3 TRAIN: [548  88 336 168 315 162 294 574 230 125 347  27  25 484 290 500 546 596\n",
      " 174 452 222 236 533 508 140 523 325 598 520 314 219  89 307 426 207 499\n",
      " 293 176 200 542 342 257 415 105 268 152 368 305 544 281  38  39  71 456\n",
      " 527 217 365 295 166 328 180 271 246 372 206  60  23  82 571  52 433 424\n",
      " 223  94 248 516  49 466 506 224 218 518  48 353  97 371 193 485 401 208\n",
      "  68 461 129 344 552 153  21 525 345   8 435  92  80 150 256 194 130  85\n",
      " 487 428 587 388 450 447  56  86 102 532  17 183 171  67 273 247 512 492\n",
      " 420 538 204 178  54 356 494 276   6 186 212 381 341  63 417 160 108   1\n",
      " 267 143 471 357 573 599 283  75 131  10 588 202  34 510 258   2 478 412\n",
      " 404 472 332 409 387 187 465 429 398 195 220 547 580  72 457  58 434 550\n",
      "  20 459 537 567  26 376 211 172 114  87 284 188 366 238 349 367  61 302\n",
      " 277 414 422 477 362 209 190 173 237 184 278 408 191 443 170 383 431 292\n",
      "  79 405 300 389 261 123 249 182  13 259 495 519 568 410 198 286 232 346\n",
      " 317 592 331   5 576 489  47 585 177 593 386 469 369 569 446 382  59 146\n",
      " 103 197 526 462  50 354 308  33 557 486  66 213 164 299  45 122 451 104\n",
      " 216 147  28 135 253 263 437 564 112 265 340 535 551  95 288 179 324 563\n",
      " 498 251 138 107 479 320 444 338  57 335 400 394 250 309 132 395 364 312\n",
      " 260 406  83 591 579 560 115 101  31 374 377 470 483 144 113  22 360 418\n",
      " 490 189 411 350 521  14 169 333 326 319 370 586 201 590  64 233   7 391\n",
      " 264 339 359 396 358 291 561 467 310 480 449 109 139 311 539 227 205 482\n",
      " 413 262 504 124  36 181 423  90 280 287 460 570 439  43 524 440 282  15\n",
      "  19 110  73  70 329 583 226 321 421 316 142 502 161 121 517 497 330 117\n",
      " 393 118 355 159] TEST: [454  62  44 229  81 529 380 384 185 141 351 402 379 493  99 464 476 448\n",
      "  65 582 234  53  77 589 419 158 503 531  11 565 361  46  96 296 343 536\n",
      "   9 373 243 298 445 436 228 515 458 559 323 594 577 270 111 566 348 156\n",
      " 274  41  93 137 120 572 240 363  55  78 199 522 399 491 215 474 438 441\n",
      "  30 509  29  35 530 203 163 432  91 133 327 534 501  51 151 453 475 154\n",
      "   3 562 106 239 505 306 425 541  74 403   0  24 272 303 175 578 430 289\n",
      " 136  32 540 304 275 255 555 266 196 221 128 528 473 575 455 214 155 225\n",
      " 334 442 254 545 126 468 553 297 416 488 513 352 210 127 556 313 242 595\n",
      " 543 235 134 385 116 231 397 145 554 244 149  76  37 427 597 463 148  18\n",
      " 558 337   4 581  69 192 301  42 375 119 390 100  12 318 392 507 241 285\n",
      " 407 167  98  16 279 157 245 481  40 378  84 511 514 496 269 252 165 549\n",
      " 322 584]\n"
     ]
    }
   ],
   "source": [
    "i = 1 \n",
    "for  train_index, test_index in sss.split(X, Y):\n",
    "    print( i, \"TRAIN:\", train_index, \"TEST:\", test_index)\n",
    "    X_train, X_test = train_600.iloc[train_index], train_600.iloc[test_index]\n",
    "    X_train.to_csv(\"./dataset/python/fold\" + str(i) + \"_train.csv\",index=False)\n",
    "    X_test.to_csv(\"./dataset/python/fold\" + str(i) + \"_test.csv\",index=False)\n",
    "    i = i + 1"
   ]
  },
  {
   "cell_type": "code",
   "execution_count": 88,
   "metadata": {},
   "outputs": [
    {
     "data": {
      "text/plain": [
       "array(['termdays', 'rankloanamt', 'rankloannum', 'isreffered',\n",
       "       'totalduerank', 'agerank', 'avgloanamtrank', 'repaymentrank',\n",
       "       'Current', 'Other', 'Savings', 'Access Bank', 'Diamond Bank',\n",
       "       'EcoBank', 'FCMB', 'Fidelity Bank', 'First Bank', 'GT Bank',\n",
       "       'Heritage Bank', 'Keystone Bank', 'Skye Bank', 'Stanbic IBTC',\n",
       "       'Standard Chartered', 'Sterling Bank', 'UBA', 'Union Bank',\n",
       "       'Unity Bank', 'Wema Bank', 'Zenith Bank', 'Contract', 'Permanent',\n",
       "       'Retired', 'Self-Employed', 'Student', 'Unemployed'], dtype=object)"
      ]
     },
     "execution_count": 88,
     "metadata": {},
     "output_type": "execute_result"
    }
   ],
   "source": [
    "train_600.columns[0:35].values"
   ]
  },
  {
   "cell_type": "code",
   "execution_count": 111,
   "metadata": {},
   "outputs": [],
   "source": [
    "from sklearn.tree import DecisionTreeClassifier\n",
    "from sklearn.metrics import accuracy_score, precision_score, recall_score, f1_score, confusion_matrix\n",
    "def testModel(train, test, treefile, criteria):\n",
    "    fold_train = pd.read_csv(train)\n",
    "    fold_test = pd.read_csv(test)\n",
    "    clf = DecisionTreeClassifier(criterion=criteria)\n",
    "    clf.fit(fold_train[[c for c in train_600.columns[0:35]]], fold_train[\"class\"])\n",
    "    from sklearn import tree\n",
    "    with open(treefile,\"w\") as f:\n",
    "        f = tree.export_graphviz(clf,\n",
    "                        feature_names=[c for c in train_600.columns[0:35]], out_file=f)\n",
    "    predictions = clf.predict(fold_test[[c for c in train_600.columns[0:35]]])\n",
    "    tn, fp, fn, tp = confusion_matrix(fold_test['class'], predictions).ravel()\n",
    "    print(criteria)\n",
    "    print(\"TP -\", tp, \"TN - \", tn, \"FP - \", fp, \"FN - \", fn)\n",
    "    print(\"Accuracy -\",round(accuracy_score(fold_test['class'], predictions),2))\n",
    "    print(\"Recall -\",round(recall_score(fold_test['class'], predictions),2))\n",
    "    print(\"Precision -\",round(precision_score(fold_test['class'], predictions),2))\n",
    "    print(\"F1 -\",round(f1_score(fold_test['class'], predictions),2)) \n",
    "    print(\"Sensitivity -\",round(tp/(tp+fn),2))\n",
    "    print(\"Specificity -\",round(tn/(tn+fp),2))"
   ]
  },
  {
   "cell_type": "code",
   "execution_count": 112,
   "metadata": {},
   "outputs": [
    {
     "name": "stdout",
     "output_type": "stream",
     "text": [
      "gini\n",
      "TP - 45 TN -  55 FP -  45 FN -  55\n",
      "Accuracy - 0.5\n",
      "Recall - 0.45\n",
      "Precision - 0.5\n",
      "F1 - 0.47\n",
      "Sensitivity - 0.45\n",
      "Specificity - 0.55\n"
     ]
    }
   ],
   "source": [
    "testModel('./dataset/python/fold1_train.csv', './dataset/python/fold1_test.csv', 'fold1-gini.dot','gini')"
   ]
  },
  {
   "cell_type": "code",
   "execution_count": 113,
   "metadata": {},
   "outputs": [
    {
     "name": "stdout",
     "output_type": "stream",
     "text": [
      "entropy\n",
      "TP - 51 TN -  49 FP -  51 FN -  49\n",
      "Accuracy - 0.5\n",
      "Recall - 0.51\n",
      "Precision - 0.5\n",
      "F1 - 0.5\n",
      "Sensitivity - 0.51\n",
      "Specificity - 0.49\n"
     ]
    }
   ],
   "source": [
    "testModel('./dataset/python/fold1_train.csv', './dataset/python/fold1_test.csv', 'fold1-entropy.dot','entropy')"
   ]
  },
  {
   "cell_type": "code",
   "execution_count": 114,
   "metadata": {},
   "outputs": [
    {
     "name": "stdout",
     "output_type": "stream",
     "text": [
      "gini\n",
      "TP - 52 TN -  46 FP -  54 FN -  48\n",
      "Accuracy - 0.49\n",
      "Recall - 0.52\n",
      "Precision - 0.49\n",
      "F1 - 0.5\n",
      "Sensitivity - 0.52\n",
      "Specificity - 0.46\n"
     ]
    }
   ],
   "source": [
    "testModel('./dataset/python/fold2_train.csv', './dataset/python/fold2_test.csv', 'fold2-gini.dot','gini')"
   ]
  },
  {
   "cell_type": "code",
   "execution_count": 115,
   "metadata": {},
   "outputs": [
    {
     "name": "stdout",
     "output_type": "stream",
     "text": [
      "entropy\n",
      "TP - 46 TN -  40 FP -  60 FN -  54\n",
      "Accuracy - 0.43\n",
      "Recall - 0.46\n",
      "Precision - 0.43\n",
      "F1 - 0.45\n",
      "Sensitivity - 0.46\n",
      "Specificity - 0.4\n"
     ]
    }
   ],
   "source": [
    "testModel('./dataset/python/fold2_train.csv', './dataset/python/fold2_test.csv', 'fold2-entropy.dot','entropy')"
   ]
  },
  {
   "cell_type": "code",
   "execution_count": 116,
   "metadata": {},
   "outputs": [
    {
     "name": "stdout",
     "output_type": "stream",
     "text": [
      "gini\n",
      "TP - 41 TN -  49 FP -  51 FN -  59\n",
      "Accuracy - 0.45\n",
      "Recall - 0.41\n",
      "Precision - 0.45\n",
      "F1 - 0.43\n",
      "Sensitivity - 0.41\n",
      "Specificity - 0.49\n"
     ]
    }
   ],
   "source": [
    "testModel('./dataset/python/fold3_train.csv', './dataset/python/fold3_test.csv', 'fold3-gini.dot','gini')"
   ]
  },
  {
   "cell_type": "code",
   "execution_count": 117,
   "metadata": {},
   "outputs": [
    {
     "name": "stdout",
     "output_type": "stream",
     "text": [
      "entropy\n",
      "TP - 48 TN -  49 FP -  51 FN -  52\n",
      "Accuracy - 0.48\n",
      "Recall - 0.48\n",
      "Precision - 0.48\n",
      "F1 - 0.48\n",
      "Sensitivity - 0.48\n",
      "Specificity - 0.49\n"
     ]
    }
   ],
   "source": [
    "testModel('./dataset/python/fold3_train.csv', './dataset/python/fold3_test.csv', 'fold3-entropy.dot','entropy')"
   ]
  },
  {
   "cell_type": "code",
   "execution_count": null,
   "metadata": {
    "collapsed": true
   },
   "outputs": [],
   "source": []
  }
 ],
 "metadata": {
  "kernelspec": {
   "display_name": "Python 3",
   "language": "python",
   "name": "python3"
  },
  "language_info": {
   "codemirror_mode": {
    "name": "ipython",
    "version": 3
   },
   "file_extension": ".py",
   "mimetype": "text/x-python",
   "name": "python",
   "nbconvert_exporter": "python",
   "pygments_lexer": "ipython3",
   "version": "3.6.3"
  }
 },
 "nbformat": 4,
 "nbformat_minor": 2
}
